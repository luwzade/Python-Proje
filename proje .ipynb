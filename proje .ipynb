{
 "cells": [
  {
   "cell_type": "markdown",
   "id": "b8cbe1be",
   "metadata": {},
   "source": [
    "### flat hale getiren fonksiyon"
   ]
  },
  {
   "cell_type": "code",
   "execution_count": 1,
   "id": "b0ac351d",
   "metadata": {},
   "outputs": [],
   "source": [
    "def flatten(x): \n",
    "    flat_list = [] \n",
    "    for i in x: \n",
    "        if isinstance(i, list): \n",
    "            flat_list.extend(flatten(i))  # i kullan\n",
    "        else: \n",
    "            flat_list.append(i)           # i kullan\n",
    "    return flat_list     "
   ]
  },
  {
   "cell_type": "code",
   "execution_count": 2,
   "id": "bb713066",
   "metadata": {},
   "outputs": [],
   "source": [
    "liste = [[1,'a',['cat'],2],[[[3]],'dog'],4,5]"
   ]
  },
  {
   "cell_type": "code",
   "execution_count": 3,
   "id": "c5b0612d",
   "metadata": {},
   "outputs": [
    {
     "name": "stdout",
     "output_type": "stream",
     "text": [
      "[1, 'a', 'cat', 2, 3, 'dog', 4, 5]\n"
     ]
    }
   ],
   "source": [
    "print(flatten(liste))"
   ]
  },
  {
   "cell_type": "markdown",
   "id": "5cc4928c",
   "metadata": {},
   "source": [
    "### ters yazdıran fonksiyon"
   ]
  },
  {
   "cell_type": "code",
   "execution_count": 4,
   "id": "6d9d68fb",
   "metadata": {},
   "outputs": [],
   "source": [
    "def reverse(x) : \n",
    "    ters_liste = [alt[::-1] for alt in x][::-1]\n",
    "    return ters_liste\n",
    "    "
   ]
  },
  {
   "cell_type": "code",
   "execution_count": 5,
   "id": "37033187",
   "metadata": {},
   "outputs": [],
   "source": [
    "liste = [[1, 2], [3, 4], [5, 6, 7]]"
   ]
  },
  {
   "cell_type": "code",
   "execution_count": 6,
   "id": "a447e95e",
   "metadata": {},
   "outputs": [
    {
     "name": "stdout",
     "output_type": "stream",
     "text": [
      "[[7, 6, 5], [4, 3], [2, 1]]\n"
     ]
    }
   ],
   "source": [
    "print(reverse(liste))"
   ]
  },
  {
   "cell_type": "code",
   "execution_count": null,
   "id": "38072e40",
   "metadata": {},
   "outputs": [],
   "source": []
  }
 ],
 "metadata": {
  "kernelspec": {
   "display_name": "Python 3 (ipykernel)",
   "language": "python",
   "name": "python3"
  },
  "language_info": {
   "codemirror_mode": {
    "name": "ipython",
    "version": 3
   },
   "file_extension": ".py",
   "mimetype": "text/x-python",
   "name": "python",
   "nbconvert_exporter": "python",
   "pygments_lexer": "ipython3",
   "version": "3.11.4"
  }
 },
 "nbformat": 4,
 "nbformat_minor": 5
}
